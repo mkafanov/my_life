{
  "nbformat": 4,
  "nbformat_minor": 0,
  "metadata": {
    "colab": {
      "provenance": []
    },
    "kernelspec": {
      "name": "python3",
      "display_name": "Python 3"
    },
    "language_info": {
      "name": "python"
    }
  },
  "cells": [
    {
      "cell_type": "markdown",
      "source": [
        "## Часть 1. Генерация информации"
      ],
      "metadata": {
        "id": "yuf4FqYjB56s"
      }
    },
    {
      "cell_type": "code",
      "source": [
        "import csv\n",
        "from faker import Faker\n",
        "import random\n",
        "fake = Faker()\n",
        "\n",
        "num_records = 100000\n",
        "\n",
        "http_methods = ['GET', 'POST', 'PUT', 'DELETE']\n",
        "response_codes = [200, 301, 404, 500]\n",
        "\n",
        "file_path = \"web_server_logs.csv\"\n",
        "\n",
        "with open(file_path, mode='w', newline='') as file:\n",
        "    writer = csv.writer(file)\n",
        "    writer.writerow(['ip', 'timestamp', 'method', 'url', 'response_code', 'response_size'])\n",
        "\n",
        "    for _ in range(num_records):\n",
        "        ip = fake.ipv4()\n",
        "        timestamp = fake.date_time_this_year().isoformat()\n",
        "        method = random.choice(http_methods)\n",
        "        url = fake.uri_path()\n",
        "        response_code = random.choice(response_codes)\n",
        "        response_size = random.randint(100, 10000)\n",
        "\n",
        "        writer.writerow([ip, timestamp, method, url, response_code, response_size])\n",
        "\n",
        "print(f\"Сгенерировано {num_records} записей и сохранено в {file_path}\")\n"
      ],
      "metadata": {
        "colab": {
          "base_uri": "https://localhost:8080/"
        },
        "id": "OtB1aAL0BM_7",
        "outputId": "a45bd731-40ff-431e-9eb5-c5af15498a2e"
      },
      "execution_count": null,
      "outputs": [
        {
          "output_type": "stream",
          "name": "stdout",
          "text": [
            "Сгенерировано 100000 записей и сохранено в web_server_logs.csv\n"
          ]
        }
      ]
    },
    {
      "cell_type": "markdown",
      "source": [
        "## Часть 2. Анализ информации"
      ],
      "metadata": {
        "id": "vreR3VQPBx-G"
      }
    },
    {
      "cell_type": "code",
      "source": [
        "from pyspark.sql import SparkSession\n",
        "from pyspark.sql.functions import desc, count, to_date, sum\n",
        "\n",
        "\n",
        "spark = SparkSession.builder.appName(\"Read CSV Example\").getOrCreate()\n",
        "\n",
        "path = r'/content/web_server_logs.csv'\n",
        "df_logs = spark.read.csv(path, header=True, inferSchema=True)"
      ],
      "metadata": {
        "id": "wF8Np0ntBOvK"
      },
      "execution_count": 71,
      "outputs": []
    },
    {
      "cell_type": "markdown",
      "source": [
        "#### 1. Сгруппируйте данные по IP и посчитайте количество запросов для каждого IP, выводим 10 самых активных IP. Формат вывода, как на скрине ниже."
      ],
      "metadata": {
        "id": "V7ADmItdCTTW"
      }
    },
    {
      "cell_type": "code",
      "source": [
        "print('Top 10 active IP adresses:')\n",
        "df_logs.groupBy('ip').agg(count(\"ip\").alias(\"request_count\"))\\\n",
        ".orderBy(desc('request_count')).show(10)"
      ],
      "metadata": {
        "colab": {
          "base_uri": "https://localhost:8080/"
        },
        "id": "zFHGTF9JCaHu",
        "outputId": "bf65b22a-1bc7-4f01-890c-f42fac65a8e9"
      },
      "execution_count": 75,
      "outputs": [
        {
          "output_type": "stream",
          "name": "stdout",
          "text": [
            "Top 10 active IP adresses\n",
            "+---------------+-------------+\n",
            "|             ip|request_count|\n",
            "+---------------+-------------+\n",
            "| 219.82.251.112|            2|\n",
            "| 201.182.32.102|            1|\n",
            "|   57.48.146.32|            1|\n",
            "|  22.229.67.159|            1|\n",
            "|143.129.104.167|            1|\n",
            "|     31.43.1.71|            1|\n",
            "| 156.72.245.135|            1|\n",
            "| 97.219.102.197|            1|\n",
            "|   83.28.80.199|            1|\n",
            "| 205.112.110.22|            1|\n",
            "+---------------+-------------+\n",
            "only showing top 10 rows\n",
            "\n"
          ]
        }
      ]
    },
    {
      "cell_type": "markdown",
      "source": [
        "#### 2. Сгруппируйте данные по HTTP-методу и посчитайте количество запросов для каждого метода.\n",
        "\n"
      ],
      "metadata": {
        "id": "UuzL7A6FFtwZ"
      }
    },
    {
      "cell_type": "code",
      "source": [
        "print('Request count by HTTP method:')\n",
        "df_logs.groupBy('method').agg(count(\"method\").alias(\"method_count\")).show()"
      ],
      "metadata": {
        "colab": {
          "base_uri": "https://localhost:8080/"
        },
        "id": "n_SNr5AoFxn_",
        "outputId": "70da09e9-375c-440d-a40e-2b1de7228cc7"
      },
      "execution_count": 76,
      "outputs": [
        {
          "output_type": "stream",
          "name": "stdout",
          "text": [
            "Request count by HTTP method\n",
            "+------+------------+\n",
            "|method|method_count|\n",
            "+------+------------+\n",
            "|  POST|       24841|\n",
            "|DELETE|       25029|\n",
            "|   PUT|       25249|\n",
            "|   GET|       24881|\n",
            "+------+------------+\n",
            "\n"
          ]
        }
      ]
    },
    {
      "cell_type": "markdown",
      "source": [
        "#### 3. Профильтруйте и посчитайте количество запросов с кодом ответа 404.\n"
      ],
      "metadata": {
        "id": "23FqkGpCGVfI"
      }
    },
    {
      "cell_type": "code",
      "source": [
        " print(f'Number of 404 respose codes: {df_logs.filter(df_logs.response_code == 404).count()}')"
      ],
      "metadata": {
        "colab": {
          "base_uri": "https://localhost:8080/"
        },
        "id": "aybBRFO3GY65",
        "outputId": "724e6b01-3693-477b-fec8-bbf3c15541b8"
      },
      "execution_count": 79,
      "outputs": [
        {
          "output_type": "stream",
          "name": "stdout",
          "text": [
            "Number of 404 respose codes: 25090\n"
          ]
        }
      ]
    },
    {
      "cell_type": "markdown",
      "source": [
        "#### 4. Сгруппируйте данные по дате и просуммируйте размер ответов, сортируйте по дате."
      ],
      "metadata": {
        "id": "rEft1kHFHo-U"
      }
    },
    {
      "cell_type": "code",
      "source": [
        "df_logs = df_logs.withColumn('date', to_date(df_logs['timestamp']).alias('date'))\n",
        "print('Total response size by day:')\n",
        "df_logs.groupBy('date').agg(sum('response_size').alias('total_response_size'))\\\n",
        ".orderBy('date').show()"
      ],
      "metadata": {
        "colab": {
          "base_uri": "https://localhost:8080/"
        },
        "id": "Vw7UZ8B2HslJ",
        "outputId": "6664d9db-2317-4ef6-cc66-680e8476984c"
      },
      "execution_count": 80,
      "outputs": [
        {
          "output_type": "stream",
          "name": "stdout",
          "text": [
            "Total response size by day:\n",
            "+----------+-------------------+\n",
            "|      date|total_response_size|\n",
            "+----------+-------------------+\n",
            "|2024-01-01|            1725503|\n",
            "|2024-01-02|            1602519|\n",
            "|2024-01-03|            1496979|\n",
            "|2024-01-04|            1659664|\n",
            "|2024-01-05|            1526194|\n",
            "|2024-01-06|            1657838|\n",
            "|2024-01-07|            1709296|\n",
            "|2024-01-08|            1638062|\n",
            "|2024-01-09|            1587850|\n",
            "|2024-01-10|            1512633|\n",
            "|2024-01-11|            1647220|\n",
            "|2024-01-12|            1641089|\n",
            "|2024-01-13|            1537883|\n",
            "|2024-01-14|            1577268|\n",
            "|2024-01-15|            1666068|\n",
            "|2024-01-16|            1530095|\n",
            "|2024-01-17|            1766293|\n",
            "|2024-01-18|            1506113|\n",
            "|2024-01-19|            1518652|\n",
            "|2024-01-20|            1619930|\n",
            "+----------+-------------------+\n",
            "only showing top 20 rows\n",
            "\n"
          ]
        }
      ]
    }
  ]
}